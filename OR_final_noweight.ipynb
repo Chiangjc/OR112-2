{
 "cells": [
  {
   "cell_type": "code",
   "execution_count": 83,
   "metadata": {},
   "outputs": [],
   "source": [
    "import pandas as pd\n",
    "\n",
    "# Read excel sheets and turn them into lists\n",
    "instance_dis = pd.read_excel('OR_FP_data.xlsx', '距離')\n",
    "instance_info = pd.read_excel('OR_FP_data.xlsx', '學校資訊')\n",
    "instance_school_num = pd.read_excel('OR_FP_data.xlsx', '各里學校數量')\n",
    "instance_student_num = pd.read_excel('OR_FP_data.xlsx', '各里學生人數')\n",
    "\n",
    "# distance between 2 villages\n",
    "distances = instance_dis.iloc[1:31, 2:32]\n",
    "d = distances.values\n",
    "\n",
    "# building costs\n",
    "C_B = instance_info.iloc[0,1]\n",
    "C_S = instance_info.iloc[1,1]\n",
    "\n",
    "# capacity of school\n",
    "N_B = instance_info.iloc[0,3]\n",
    "N_S = instance_info.iloc[1,3]\n",
    "\n",
    "# need of teachers\n",
    "T_B = instance_info.iloc[0,5]\n",
    "T_S = instance_info.iloc[1,5]\n",
    "\n",
    "# total number of teacher\n",
    "K = instance_info.iloc[2,5]\n",
    "\n",
    "# original school numbers of each village\n",
    "S_B = instance_school_num.iloc[0:30,1].values\n",
    "S_S = instance_school_num.iloc[0:30,2].values\n",
    "\n",
    "# student number of each village\n",
    "P = instance_student_num.iloc[0:30,2].values\n",
    "\n",
    "# number of villages\n",
    "L = range(30)"
   ]
  },
  {
   "cell_type": "code",
   "execution_count": 84,
   "metadata": {},
   "outputs": [
    {
     "data": {
      "text/plain": [
       "{0: <gurobi.Constr *Awaiting Model Update*>,\n",
       " 1: <gurobi.Constr *Awaiting Model Update*>,\n",
       " 2: <gurobi.Constr *Awaiting Model Update*>,\n",
       " 3: <gurobi.Constr *Awaiting Model Update*>,\n",
       " 4: <gurobi.Constr *Awaiting Model Update*>,\n",
       " 5: <gurobi.Constr *Awaiting Model Update*>,\n",
       " 6: <gurobi.Constr *Awaiting Model Update*>,\n",
       " 7: <gurobi.Constr *Awaiting Model Update*>,\n",
       " 8: <gurobi.Constr *Awaiting Model Update*>,\n",
       " 9: <gurobi.Constr *Awaiting Model Update*>,\n",
       " 10: <gurobi.Constr *Awaiting Model Update*>,\n",
       " 11: <gurobi.Constr *Awaiting Model Update*>,\n",
       " 12: <gurobi.Constr *Awaiting Model Update*>,\n",
       " 13: <gurobi.Constr *Awaiting Model Update*>,\n",
       " 14: <gurobi.Constr *Awaiting Model Update*>,\n",
       " 15: <gurobi.Constr *Awaiting Model Update*>,\n",
       " 16: <gurobi.Constr *Awaiting Model Update*>,\n",
       " 17: <gurobi.Constr *Awaiting Model Update*>,\n",
       " 18: <gurobi.Constr *Awaiting Model Update*>,\n",
       " 19: <gurobi.Constr *Awaiting Model Update*>,\n",
       " 20: <gurobi.Constr *Awaiting Model Update*>,\n",
       " 21: <gurobi.Constr *Awaiting Model Update*>,\n",
       " 22: <gurobi.Constr *Awaiting Model Update*>,\n",
       " 23: <gurobi.Constr *Awaiting Model Update*>,\n",
       " 24: <gurobi.Constr *Awaiting Model Update*>,\n",
       " 25: <gurobi.Constr *Awaiting Model Update*>,\n",
       " 26: <gurobi.Constr *Awaiting Model Update*>,\n",
       " 27: <gurobi.Constr *Awaiting Model Update*>,\n",
       " 28: <gurobi.Constr *Awaiting Model Update*>,\n",
       " 29: <gurobi.Constr *Awaiting Model Update*>}"
      ]
     },
     "execution_count": 84,
     "metadata": {},
     "output_type": "execute_result"
    }
   ],
   "source": [
    "from gurobipy import *\n",
    "\n",
    "eg1 = Model(\"eg1\")\n",
    "\n",
    "x_B = []\n",
    "for i in L:\n",
    "    x_B.append(eg1.addVar(lb = 0, vtype = GRB.INTEGER, name = \"x_B\" + str(i+1)))\n",
    "x_S = []\n",
    "for i in L:\n",
    "    x_S.append(eg1.addVar(lb = 0, vtype = GRB.INTEGER, name = \"x_S\" + str(i+1)))\n",
    "\n",
    "z = []\n",
    "for i in L:\n",
    "    z.append([])\n",
    "    for j in L:\n",
    "        z[i].append(eg1.addVar(lb = 0, vtype = GRB.CONTINUOUS, name=\"z\" + str(i+1) + str(j+1)))\n",
    "\n",
    "eg1.setObjective(quicksum(quicksum(d[i][j]*z[i][j]*P[i] for j in L) + (x_B[i]-S_B[i])*C_B + (x_S[i]-S_S[i])*C_S for i in L), GRB.MINIMIZE)\n",
    "eg1.addConstrs((quicksum(z[i][j] for j in L) == 1 for i in L), \"i區有多少部分去j區\") # correct\n",
    "eg1.addConstrs(((quicksum(z[i][j]*P[i] for i in L) <= (x_B[j]*N_B + x_S[j]*N_S)) for j in L) ,\"需求被滿足\")\n",
    "eg1.addConstr(quicksum((x_B[i]*T_B + x_S[i]*T_S) for i in L) <= K, \"可用師資\")\n",
    "eg1.addConstr(quicksum(P[i] for i in L) <= quicksum((x_B[i]*N_B + x_S[i]*N_S) for i in L), \"滿足需求\")\n",
    "eg1.addConstrs((x_B[i] - S_B[i] >= 0 for i in L), \"不拆掉原學校（大）\")\n",
    "eg1.addConstrs((x_S[i] - S_S[i] >= 0 for i in L), \"不拆掉原學校（小）\")"
   ]
  },
  {
   "cell_type": "code",
   "execution_count": 85,
   "metadata": {},
   "outputs": [
    {
     "name": "stdout",
     "output_type": "stream",
     "text": [
      "Gurobi Optimizer version 11.0.1 build v11.0.1rc0 (mac64[arm] - Darwin 22.3.0 22D68)\n",
      "\n",
      "CPU model: Apple M2 Pro\n",
      "Thread count: 10 physical cores, 10 logical processors, using up to 10 threads\n",
      "\n",
      "Optimize a model with 122 rows, 960 columns and 2040 nonzeros\n",
      "Model fingerprint: 0x0f60f10c\n",
      "Variable types: 900 continuous, 60 integer (0 binary)\n",
      "Coefficient statistics:\n",
      "  Matrix range     [1e+00, 2e+03]\n",
      "  Objective range  [1e+05, 8e+08]\n",
      "  Bounds range     [0e+00, 0e+00]\n",
      "  RHS range        [1e+00, 2e+04]\n",
      "Presolve removed 60 rows and 0 columns\n",
      "Presolve time: 0.00s\n",
      "Presolved: 62 rows, 960 columns, 1980 nonzeros\n",
      "Variable types: 900 continuous, 60 integer (0 binary)\n",
      "Found heuristic solution: objective 1.610697e+09\n",
      "\n",
      "Root relaxation: objective 8.072493e+08, 40 iterations, 0.00 seconds (0.00 work units)\n",
      "\n",
      "    Nodes    |    Current Node    |     Objective Bounds      |     Work\n",
      " Expl Unexpl |  Obj  Depth IntInf | Incumbent    BestBd   Gap | It/Node Time\n",
      "\n",
      "     0     0 8.0725e+08    0    8 1.6107e+09 8.0725e+08  49.9%     -    0s\n",
      "H    0     0                    1.609553e+09 8.0725e+08  49.8%     -    0s\n",
      "H    0     0                    8.116108e+08 8.0725e+08  0.54%     -    0s\n",
      "H    0     0                    8.111406e+08 8.0725e+08  0.48%     -    0s\n",
      "     0     0 8.0851e+08    0    6 8.1114e+08 8.0851e+08  0.32%     -    0s\n",
      "H    0     0                    8.108726e+08 8.0851e+08  0.29%     -    0s\n",
      "H    0     0                    8.098741e+08 8.0879e+08  0.13%     -    0s\n",
      "     0     0 8.0879e+08    0    8 8.0987e+08 8.0879e+08  0.13%     -    0s\n",
      "     0     0 8.0906e+08    0    5 8.0987e+08 8.0906e+08  0.10%     -    0s\n",
      "     0     0 8.0924e+08    0    7 8.0987e+08 8.0924e+08  0.08%     -    0s\n",
      "     0     0 8.0934e+08    0    7 8.0987e+08 8.0934e+08  0.07%     -    0s\n",
      "\n",
      "Cutting planes:\n",
      "  Gomory: 7\n",
      "  MIR: 12\n",
      "\n",
      "Explored 1 nodes (86 simplex iterations) in 0.02 seconds (0.01 work units)\n",
      "Thread count was 10 (of 10 available processors)\n",
      "\n",
      "Solution count 6: 8.09874e+08 8.10873e+08 8.11141e+08 ... 1.6107e+09\n",
      "\n",
      "Optimal solution found (tolerance 1.00e-04)\n",
      "Best objective 8.098740976084e+08, best bound 8.098665817281e+08, gap 0.0009%\n"
     ]
    }
   ],
   "source": [
    "eg1.optimize()"
   ]
  },
  {
   "cell_type": "code",
   "execution_count": 86,
   "metadata": {},
   "outputs": [
    {
     "name": "stdout",
     "output_type": "stream",
     "text": [
      "\n",
      "z* = 809874097.6083794\n"
     ]
    }
   ],
   "source": [
    "print (\"\\nz* =\", eg1.objVal)"
   ]
  },
  {
   "cell_type": "code",
   "execution_count": 87,
   "metadata": {},
   "outputs": [
    {
     "name": "stdout",
     "output_type": "stream",
     "text": [
      "x_B23 = 1.0\n"
     ]
    }
   ],
   "source": [
    "for i in L:\n",
    "    if x_B[i].x-S_B[i] > 0:\n",
    "        print(x_B[i].varName, '=', x_B[i].x-S_B[i])"
   ]
  },
  {
   "cell_type": "code",
   "execution_count": 88,
   "metadata": {},
   "outputs": [],
   "source": [
    "for i in L:\n",
    "    if x_S[i].x-S_S[i] > 0:\n",
    "        print(x_S[i].varName, '=', x_S[i].x-S_S[i])"
   ]
  },
  {
   "cell_type": "code",
   "execution_count": 89,
   "metadata": {},
   "outputs": [
    {
     "name": "stdout",
     "output_type": "stream",
     "text": [
      "z18 = 0.8524777340513675\n",
      "z110 = 0.14752226594863255\n",
      "z24 = 0.45210500358679984\n",
      "z28 = 0.5478949964132002\n",
      "z34 = 1.0\n",
      "z44 = 1.0\n",
      "z55 = 1.0\n",
      "z66 = 1.0\n",
      "z74 = 1.0\n",
      "z88 = 1.0\n",
      "z98 = 0.6937997004357299\n",
      "z912 = 0.3062002995642701\n",
      "z1010 = 1.0\n",
      "z1110 = 1.0\n",
      "z1212 = 1.0\n",
      "z1323 = 1.0\n",
      "z1414 = 1.0\n",
      "z1519 = 0.39498279326265384\n",
      "z1524 = 0.12863906463748295\n",
      "z1525 = 0.47637814209986307\n",
      "z1614 = 0.8235033990011099\n",
      "z1624 = 0.17649660099889006\n",
      "z1712 = 1.0\n",
      "z1818 = 1.0\n",
      "z1919 = 1.0\n",
      "z2023 = 0.8069697815835196\n",
      "z2024 = 0.1930302184164803\n",
      "z2121 = 0.4058515423496131\n",
      "z2123 = 0.5941484576503869\n",
      "z2210 = 0.25247986972126424\n",
      "z2218 = 0.7475201302787358\n",
      "z2323 = 1.0\n",
      "z2424 = 1.0\n",
      "z2525 = 1.0\n",
      "z2619 = 1.0\n",
      "z275 = 0.987899410683391\n",
      "z2730 = 0.012100589316608993\n",
      "z285 = 0.08326824140199213\n",
      "z2828 = 0.9167317585980078\n",
      "z294 = 0.09665775401069536\n",
      "z295 = 0.9033422459893047\n",
      "z3030 = 1.0\n"
     ]
    }
   ],
   "source": [
    "for i in L:\n",
    "    for j in L:\n",
    "        if z[i][j].x != 0:\n",
    "            print(z[i][j].varName, '=', z[i][j].x)"
   ]
  },
  {
   "cell_type": "code",
   "execution_count": 90,
   "metadata": {},
   "outputs": [
    {
     "name": "stdout",
     "output_type": "stream",
     "text": [
      "39496.390433523076\n"
     ]
    }
   ],
   "source": [
    "fuel_cost = 0\n",
    "for i in L:\n",
    "    for j in L:\n",
    "        fuel_cost += d[i][j]*z[i][j].x*P[i]\n",
    "fuel_cost = fuel_cost*E\n",
    "print(fuel_cost)"
   ]
  },
  {
   "cell_type": "code",
   "execution_count": 91,
   "metadata": {},
   "outputs": [
    {
     "name": "stdout",
     "output_type": "stream",
     "text": [
      "800000000.0\n"
     ]
    }
   ],
   "source": [
    "building_cost = 0\n",
    "for i in L:\n",
    "    building_cost += ((x_B[i].x-S_B[i])*C_B +(x_S[i].x-S_S[i])*C_S)\n",
    "print(building_cost)"
   ]
  },
  {
   "cell_type": "code",
   "execution_count": 92,
   "metadata": {},
   "outputs": [
    {
     "name": "stdout",
     "output_type": "stream",
     "text": [
      "800039496.3904335\n"
     ]
    }
   ],
   "source": [
    "total_cost = fuel_cost + building_cost\n",
    "print(total_cost)"
   ]
  },
  {
   "cell_type": "code",
   "execution_count": 93,
   "metadata": {},
   "outputs": [
    {
     "name": "stdout",
     "output_type": "stream",
     "text": [
      "v5= 622.804084084084\n",
      "v7= 27.292252252251615\n",
      "v22= 241.90366366366334\n"
     ]
    }
   ],
   "source": [
    "# 缺額\n",
    "v = []\n",
    "for j in L:\n",
    "    v.append(x_B[j].x*N_B + x_S[j].x*N_S)\n",
    "    for i in L:\n",
    "        v[j] -= z[i][j].x*P[i]\n",
    "    if v[j] >= 1:\n",
    "        print('v' + str(j) + '=', v[j])"
   ]
  }
 ],
 "metadata": {
  "kernelspec": {
   "display_name": "Python 3",
   "language": "python",
   "name": "python3"
  },
  "language_info": {
   "codemirror_mode": {
    "name": "ipython",
    "version": 3
   },
   "file_extension": ".py",
   "mimetype": "text/x-python",
   "name": "python",
   "nbconvert_exporter": "python",
   "pygments_lexer": "ipython3",
   "version": "3.11.5"
  }
 },
 "nbformat": 4,
 "nbformat_minor": 2
}
